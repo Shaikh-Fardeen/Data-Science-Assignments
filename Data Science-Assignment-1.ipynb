{
 "cells": [
  {
   "cell_type": "raw",
   "id": "cc1eb9a3-52db-41c4-9651-ffee37ffa17d",
   "metadata": {},
   "source": [
    "Q1. Create one variable containing following type of data:"
   ]
  },
  {
   "cell_type": "code",
   "execution_count": null,
   "id": "12b689ed-a553-4795-b1e7-f9333ae8450e",
   "metadata": {
    "tags": []
   },
   "outputs": [],
   "source": [
    "# Q1. Create one variable containing following type of data:\n",
    "\n",
    "# (i) string\n",
    "s = \"Fardeen\"\n",
    "\n",
    "# (ii) list\n",
    "l = [1,2,3,4,5,\"Fardeen\", True, 3+4j, 34.56]\n",
    "\n",
    "# (iii) float\n",
    "f = 25.56\n",
    "\n",
    "# (iv) tuple\n",
    "t = (1,2,3,4,\"Fardeen\", True, 3+4j, 34.56)"
   ]
  },
  {
   "cell_type": "raw",
   "id": "4467ecae-dc5c-421a-9ac4-5dc5d46fb4c2",
   "metadata": {},
   "source": [
    "Q2. Given are some following variables containing data:"
   ]
  },
  {
   "cell_type": "raw",
   "id": "3ce4b709-18cf-465a-a3ab-12588b5cceab",
   "metadata": {
    "tags": []
   },
   "source": [
    "#Q2. Given are some following variables containing data:\n",
    "\n",
    "# (i) var1 = ‘ ‘ \n",
    "first is string \n",
    "\n",
    "# (ii) var2 = ‘[ DS , ML , Python]’\n",
    "second is also a string because it surrounded with qoute\n",
    "\n",
    "# (iii) var3 = [ ‘DS’ , ’ML’ , ‘Python’ ]\n",
    "It is a list \n",
    "\n",
    "# (iv) var4 = 1.\n",
    "It is a float because of dot"
   ]
  },
  {
   "cell_type": "raw",
   "id": "c95e7403-5d28-4088-a36f-f98d61595af6",
   "metadata": {},
   "source": [
    "Q3. Explain the use of the following operators using an example:"
   ]
  },
  {
   "cell_type": "code",
   "execution_count": null,
   "id": "537c51f8-fc72-46fe-ae46-d0e93be4b378",
   "metadata": {},
   "outputs": [],
   "source": [
    "# Q3. Explain the use of the following operators using an example:\n",
    "\n",
    "# (i) / \n",
    "# Tt's a division operator which is used to divide the value like 20 divde to 4 answer is 5 we use \"/\" operator to this tasks.\n",
    "division = 20/4\n",
    "\n",
    "# (ii) % \n",
    "# This operator is called modulos operator which is used to returns the remainder when the first operand is divided by the second operand.\n",
    "modulus = 10%3\n",
    "\n",
    "# (iii) // \n",
    "# This operator is called floor operator which is work like divisio but not return quotient without decimal value.\n",
    "floor_divison = 8//3\n",
    "\n",
    "# (iv) ** \n",
    "# Exponential operator is raised the power of first operand to the power of the second operand.\n",
    "exponential = 6 ** 2\n",
    "print(exponential)\n"
   ]
  },
  {
   "cell_type": "raw",
   "id": "2799d02f-b405-477b-a092-6bdda35f57de",
   "metadata": {},
   "source": [
    "Q4. Create a list of length 10 of your choice containing multiple types of data. Using for loop print the\n",
    "element and its data type."
   ]
  },
  {
   "cell_type": "code",
   "execution_count": 6,
   "id": "8217b260-715d-46ed-9d3e-eb79fde28262",
   "metadata": {},
   "outputs": [
    {
     "name": "stdout",
     "output_type": "stream",
     "text": [
      "<class 'int'>\n",
      "5\n",
      "<class 'str'>\n",
      "PwSkills\n",
      "<class 'float'>\n",
      "3.14\n",
      "<class 'bool'>\n",
      "True\n",
      "<class 'list'>\n",
      "[1, 2, 3]\n",
      "<class 'str'>\n",
      "Python\n",
      "<class 'tuple'>\n",
      "(10, 20)\n",
      "<class 'dict'>\n",
      "{'Name': 'Fardeen'}\n",
      "<class 'NoneType'>\n",
      "None\n",
      "<class 'float'>\n",
      "9.99\n"
     ]
    }
   ],
   "source": [
    "# Q4. Create a list of length 10 of your choice containing multiple types of data. Using for loop print the element and its data type.\n",
    "\n",
    "list = [5, 'PwSkills', 3.14, True, [1, 2, 3], 'Python', (10, 20), {'Name': 'Fardeen'}, None, 9.99]\n",
    "\n",
    "for i in list:\n",
    "    print(type(i))\n",
    "    print(i)"
   ]
  },
  {
   "cell_type": "raw",
   "id": "4d354b9c-8059-4eb0-958f-7a656086f7dc",
   "metadata": {},
   "source": [
    "Q5. Using a while loop, verify if the number A is purely divisible by number B and if so then how many\n",
    "times it can be divisible."
   ]
  },
  {
   "cell_type": "code",
   "execution_count": 13,
   "id": "9a4f1097-7991-414d-9ad2-41e315ffa46b",
   "metadata": {},
   "outputs": [
    {
     "name": "stdin",
     "output_type": "stream",
     "text": [
      "Enter number A:  5\n",
      "Enter number B:  6\n"
     ]
    },
    {
     "name": "stdout",
     "output_type": "stream",
     "text": [
      "{a} is not divisible by {b}.\n"
     ]
    }
   ],
   "source": [
    "# Q5. Using a while loop, verify if the number A is purely divisible by number B and if so then how many times it can be divisible.\n",
    "\n",
    "\n",
    "a = int(input(\"Enter number A: \"))\n",
    "b = int(input(\"Enter number B: \"))\n",
    "\n",
    "count = 0\n",
    "while a % b == 0:\n",
    "    count += 1\n",
    "    a //= b\n",
    "\n",
    "if count > 0:\n",
    "    print(\"{a} is divisible by {b} {count} times.\")\n",
    "else:\n",
    "    print(\"{a} is not divisible by {b}.\")"
   ]
  },
  {
   "cell_type": "raw",
   "id": "32f81d30-3d22-4481-9b9b-8c34db517843",
   "metadata": {},
   "source": [
    "Q6. Create a list containing 25 int type data. Using for loop and if-else condition print if the element is\n",
    "divisible by 3 or not."
   ]
  },
  {
   "cell_type": "code",
   "execution_count": 12,
   "id": "fb94f605-0a1c-4725-bd35-420e2903dd13",
   "metadata": {},
   "outputs": [
    {
     "name": "stdout",
     "output_type": "stream",
     "text": [
      "{num} is not divisible by 3.\n",
      "{num} is not divisible by 3.\n",
      "{num} is not divisible by 3.\n",
      "{num} is divisible by 3.\n",
      "{num} is divisible by 3.\n",
      "{num} is divisible by 3.\n",
      "{num} is divisible by 3.\n",
      "{num} is not divisible by 3.\n",
      "{num} is divisible by 3.\n",
      "{num} is not divisible by 3.\n",
      "{num} is divisible by 3.\n",
      "{num} is divisible by 3.\n",
      "{num} is divisible by 3.\n",
      "{num} is not divisible by 3.\n",
      "{num} is divisible by 3.\n",
      "{num} is divisible by 3.\n",
      "{num} is divisible by 3.\n",
      "{num} is divisible by 3.\n",
      "{num} is not divisible by 3.\n",
      "{num} is divisible by 3.\n",
      "{num} is not divisible by 3.\n",
      "{num} is divisible by 3.\n",
      "{num} is divisible by 3.\n",
      "{num} is divisible by 3.\n",
      "{num} is not divisible by 3.\n"
     ]
    }
   ],
   "source": [
    "# Q6. Create a list containing 25 int type data. Using for loop and if-else condition print if the element is divisible by 3 or not.\n",
    "\n",
    "list2 = [1, 5, 7, 9, 12, 15, 18, 20, 21, 25, 27, 30, 33, 35, 39, 42, 45, 48, 50, 51, 55, 57, 60, 63, 65]\n",
    "\n",
    "for num in list2:\n",
    "    if num % 3 == 0:\n",
    "        print(\"{num} is divisible by 3.\")\n",
    "    else:\n",
    "        print(\"{num} is not divisible by 3.\")"
   ]
  },
  {
   "cell_type": "raw",
   "id": "034cf5d6-59b4-4d76-9076-2e7c13372d61",
   "metadata": {},
   "source": [
    "Q7. What do you understand about mutable and immutable data types? Give examples for both showing\n",
    "this property."
   ]
  },
  {
   "cell_type": "code",
   "execution_count": null,
   "id": "0b03394f-73d4-4c58-ac30-1641ca431df2",
   "metadata": {},
   "outputs": [],
   "source": [
    "# Q7. What do you understand about mutable and immutable data types? Give examples for both showing this property.\n",
    "\n",
    "# List is a mutable object where we can assign new value or replace with old. \n",
    "# eg:\n",
    "list3 = [1,5,3,4,5]\n",
    "list3[1]= 2\n",
    "print(list3)\n",
    "\n",
    "# string is immutable object where we can not change the value of a string. \n",
    "# eg:\n",
    "string = \"Hello\"\n",
    "print(string)  # Output: Hello\n",
    "\n",
    "string[0] = \"J\"  # This will give an error as strings are immutable\n"
   ]
  }
 ],
 "metadata": {
  "kernelspec": {
   "display_name": "Python 3 (ipykernel)",
   "language": "python",
   "name": "python3"
  },
  "language_info": {
   "codemirror_mode": {
    "name": "ipython",
    "version": 3
   },
   "file_extension": ".py",
   "mimetype": "text/x-python",
   "name": "python",
   "nbconvert_exporter": "python",
   "pygments_lexer": "ipython3",
   "version": "3.10.8"
  }
 },
 "nbformat": 4,
 "nbformat_minor": 5
}
